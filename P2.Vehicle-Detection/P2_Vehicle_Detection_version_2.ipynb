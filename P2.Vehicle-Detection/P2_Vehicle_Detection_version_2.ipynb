{
  "nbformat": 4,
  "nbformat_minor": 0,
  "metadata": {
    "colab": {
      "name": "P2.Vehicle-Detection.ipynb",
      "provenance": [],
      "collapsed_sections": [
        "jHpL4HaCrMZA",
        "Bt5RbNHQrUPH",
        "4wf93lMmrXyG",
        "t33hekBqrb-R",
        "maXwUBPsrfsq",
        "LJs_FoMmrlpn",
        "uGrL_VtXrnWE"
      ],
      "include_colab_link": true
    },
    "kernelspec": {
      "name": "python3",
      "display_name": "Python 3"
    },
    "language_info": {
      "name": "python"
    }
  },
  "cells": [
    {
      "cell_type": "markdown",
      "metadata": {
        "id": "view-in-github",
        "colab_type": "text"
      },
      "source": [
        "<a href=\"https://colab.research.google.com/github/ahmed192a/ImageProcessing-PatternRecognition/blob/main/P2.Vehicle-Detection/P2_Vehicle_Detection_version_2.ipynb\" target=\"_parent\"><img src=\"https://colab.research.google.com/assets/colab-badge.svg\" alt=\"Open In Colab\"/></a>"
      ]
    },
    {
      "cell_type": "markdown",
      "source": [
        "# P5: Vehicle Detection and Tracking"
      ],
      "metadata": {
        "id": "PFHKsiAcq2Hn"
      }
    },
    {
      "cell_type": "code",
      "source": [
        "import os\n",
        "if (not os.path.exists('./P2_Vehicle_Detection.ipynb')):\n",
        "  !git clone https://github.com/ahmed192a/ImageProcessing-PatternRecognition\n",
        "  %cd ImageProcessing-PatternRecognition/P2.Vehicle-Detection"
      ],
      "metadata": {
        "id": "cf7I0qoUiEVD"
      },
      "execution_count": null,
      "outputs": []
    },
    {
      "cell_type": "markdown",
      "source": [
        "# Imports"
      ],
      "metadata": {
        "id": "N6iox-gjrJWj"
      }
    },
    {
      "cell_type": "code",
      "execution_count": null,
      "metadata": {
        "id": "-dnoKbu4pO1u"
      },
      "outputs": [],
      "source": [
        "import matplotlib.image as mpimg\n",
        "import matplotlib.pyplot as plt\n",
        "import numpy as np\n",
        "import pickle\n",
        "import cv2\n",
        "import glob\n",
        "import time\n",
        "from random import shuffle\n",
        "from scipy.ndimage.measurements import label\n",
        "from skimage.feature import hog\n",
        "from sklearn.svm import LinearSVC\n",
        "from sklearn.preprocessing import StandardScaler\n",
        "from sklearn.model_selection import train_test_split\n",
        "from moviepy.editor import VideoFileClip"
      ]
    },
    {
      "cell_type": "markdown",
      "source": [
        "# Features Extraction Algorithms"
      ],
      "metadata": {
        "id": "jHpL4HaCrMZA"
      }
    },
    {
      "cell_type": "code",
      "source": [
        "\n",
        "def convert_color(img, conv='RGB2YCrCb'):\n",
        "    if conv == 'RGB2YCrCb':\n",
        "        return cv2.cvtColor(img, cv2.COLOR_RGB2YCrCb)\n",
        "    if conv == 'BGR2YCrCb':\n",
        "        return cv2.cvtColor(img, cv2.COLOR_BGR2YCrCb)\n",
        "    if conv == 'RGB2LUV':\n",
        "        return cv2.cvtColor(img, cv2.COLOR_RGB2LUV)\n",
        "    if conv == 'BGR2LUV':\n",
        "        return cv2.cvtColor(img, cv2.COLOR_BGR2LUV)\n",
        "    if conv == 'RGB2HSV':\n",
        "        return cv2.cvtColor(img, cv2.COLOR_RGB2HSV)\n",
        "    if conv == 'BGR2HSV':\n",
        "        return cv2.cvtColor(img, cv2.COLOR_BGR2HSV)\n",
        "    if conv == 'RGB2HLS':\n",
        "        return cv2.cvtColor(img, cv2.COLOR_RGB2HLS)\n",
        "    if conv == 'BGR2HLS':\n",
        "        return cv2.cvtColor(img, cv2.COLOR_BGR2HLS)\n",
        "    if conv == 'RGB2YUV':\n",
        "        return cv2.cvtColor(img, cv2.COLOR_RGB2YUV)\n",
        "    if conv == 'BGR2YUV':\n",
        "        return cv2.cvtColor(img, cv2.COLOR_BGR2YUV)\n",
        "    if conv == 'RGB2BGR':\n",
        "        return cv2.cvtColor(img, cv2.COLOR_RGB2BGR)\n",
        "    if conv == 'BGR2RGB':\n",
        "        return cv2.cvtColor(img, cv2.COLOR_BGR2RGB)\n",
        "    \n",
        "def get_hog_features(img, orient, pix_per_cell, cell_per_block, \n",
        "                        vis=False, feature_vec=True):\n",
        "    # Call with two outputs if vis==True\n",
        "    if vis == True:\n",
        "        features, hog_image = hog(img, orientations=orient, \n",
        "                                  pixels_per_cell=(pix_per_cell,pix_per_cell),\n",
        "                                  cells_per_block=(cell_per_block,cell_per_block), \n",
        "                                  transform_sqrt=True, \n",
        "                                  visualize=vis, feature_vector=feature_vec)\n",
        "        return features, hog_image\n",
        "    # Otherwise call with one output\n",
        "    else:      \n",
        "        features = hog(img, orientations=orient, \n",
        "                       pixels_per_cell=(pix_per_cell,pix_per_cell),\n",
        "                       cells_per_block=(cell_per_block,cell_per_block),\n",
        "                       transform_sqrt=True, \n",
        "                       visualize=vis, feature_vector=feature_vec)\n",
        "        return features"
      ],
      "metadata": {
        "id": "DXq9m7q7smjD"
      },
      "execution_count": 3,
      "outputs": []
    },
    {
      "cell_type": "markdown",
      "source": [
        "# Find Car utils"
      ],
      "metadata": {
        "id": "Bt5RbNHQrUPH"
      }
    },
    {
      "cell_type": "code",
      "source": [
        "## Heat-map functions\n",
        "def add_heat(heatmap, bbox_list):\n",
        "    # Iterate through list of bboxes\n",
        "    for box in bbox_list:\n",
        "        # Add += 1 for all pixels inside each bbox\n",
        "        # Assuming each \"box\" takes the form ((x1, y1), (x2, y2))\n",
        "        heatmap[box[0][1]:box[1][1], box[0][0]:box[1][0]] += 1\n",
        "\n",
        "    # Return updated heatmap\n",
        "    return heatmap# Iterate through list of bboxes\n",
        "    \n",
        "def apply_threshold(heatmap, threshold):\n",
        "    # Zero out pixels below the threshold\n",
        "    heatmap[heatmap <= threshold] = 0\n",
        "    # Return thresholded map\n",
        "    return heatmap\n",
        "\n",
        "def draw_labeled_bboxes(img, labels):\n",
        "    box_list =[]\n",
        "    # Iterate through all detected cars\n",
        "    for car_number in range(1, labels[1]+1):\n",
        "        # Find pixels with each car_number label value\n",
        "        nonzero = (labels[0] == car_number).nonzero()\n",
        "        # Identify x and y values of those pixels\n",
        "        nonzeroy = np.array(nonzero[0])\n",
        "        nonzerox = np.array(nonzero[1])\n",
        "        # Define a bounding box based on min/max x and y\n",
        "        bbox = ((np.min(nonzerox), np.min(nonzeroy)), (np.max(nonzerox), np.max(nonzeroy)))\n",
        "        box_list.append(bbox)\n",
        "        # Draw the box on the image\n",
        "        cv2.rectangle(img, bbox[0], bbox[1], (0,0,255), 6)\n",
        "    # Return the image\n",
        "    return img, box_list"
      ],
      "metadata": {
        "id": "gIMu3xDutMEF"
      },
      "execution_count": 4,
      "outputs": []
    },
    {
      "cell_type": "markdown",
      "source": [
        "# Find Car"
      ],
      "metadata": {
        "id": "4wf93lMmrXyG"
      }
    },
    {
      "cell_type": "code",
      "source": [
        "# Define a single function that can extract features using hog sub-sampling and make predictions\n",
        "def find_cars(img, ystart, ystop, scale, svc, X_scaler, orient, pix_per_cell, cell_per_block, cells_per_step, conv_color):\n",
        "    img = img.astype(np.float32)/255\n",
        "    heat_map = np.zeros_like(img[:,:,0], dtype=np.float32)\n",
        "    draw_img = np.copy(img)\n",
        "    \n",
        "    img_tosearch = img[ystart:ystop,:,:]\n",
        "    ctrans_tosearch = convert_color(img_tosearch, conv=conv_color)\n",
        "    if scale != 1:\n",
        "        imshape = ctrans_tosearch.shape\n",
        "        ctrans_tosearch = cv2.resize(ctrans_tosearch, (int(imshape[1]/scale), int(imshape[0]/scale)))\n",
        "        \n",
        "    ch1 = ctrans_tosearch[:,:,0]\n",
        "    ch2 = ctrans_tosearch[:,:,1]\n",
        "    ch3 = ctrans_tosearch[:,:,2]\n",
        "\n",
        "    # Define blocks and steps as above\n",
        "    nxcells = (ch1.shape[1] // pix_per_cell) - 1\n",
        "    nycells = (ch1.shape[0] // pix_per_cell) - 1\n",
        "    # nxblocks = nxcells // cell_per_block\n",
        "    # nyblocks = nycells // cell_per_block\n",
        "    # nfeat_per_block = orient*cell_per_block**2\n",
        "    # 64 was the orginal sampling rate, with 8 cells and 8 pix per cell\n",
        "    window = 64\n",
        "    # nblocks_per_window = (window // cell_per_block)-1 \n",
        "    ncells_per_window = (window // pix_per_cell) - 1\n",
        "    # cells_per_step = cells_per_step #int(0.5 * ncells_per_window)  # Instead of overlap, define how many cells to step\n",
        "    nxsteps = (nxcells - ncells_per_window) // cells_per_step\n",
        "    nysteps = (nycells - ncells_per_window) // cells_per_step\n",
        "    \n",
        "    # Compute individual channel HOG features for the entire image\n",
        "    hog1 = get_hog_features(ch1, orient, pix_per_cell, cell_per_block, feature_vec=False)\n",
        "    hog2 = get_hog_features(ch2, orient, pix_per_cell, cell_per_block, feature_vec=False)\n",
        "    hog3 = get_hog_features(ch3, orient, pix_per_cell, cell_per_block, feature_vec=False)\n",
        "    \n",
        "    boxes_list = []\n",
        "\n",
        "    for xb in range(nxsteps):\n",
        "        for yb in range(nysteps):\n",
        "            ypos = yb*cells_per_step\n",
        "            xpos = xb*cells_per_step\n",
        "            # Extract HOG for this patch\n",
        "            hog_feat1 = hog1[ypos:ypos+ncells_per_window, xpos:xpos+ncells_per_window].ravel() \n",
        "            hog_feat2 = hog2[ypos:ypos+ncells_per_window, xpos:xpos+ncells_per_window].ravel() \n",
        "            hog_feat3 = hog3[ypos:ypos+ncells_per_window, xpos:xpos+ncells_per_window].ravel() \n",
        "\n",
        "            hog_features = np.hstack((hog_feat1, hog_feat2, hog_feat3))\n",
        "\n",
        "            xleft = xpos*pix_per_cell\n",
        "            ytop = ypos*pix_per_cell\n",
        "\n",
        "            # Extract the image patch\n",
        "            subimg = cv2.resize(ctrans_tosearch[ytop:ytop+window, xleft:xleft+window], (64,64))\n",
        "\n",
        "            # Scale features and make a prediction\n",
        "            test_features = X_scaler.transform(hog_features.reshape(1, -1)) \n",
        "              \n",
        "            test_prediction  = svc.predict(test_features)\n",
        "            \n",
        "            if test_prediction == 1:\n",
        "                xbox_left = int(xleft*scale)\n",
        "                ytop_draw = int(ytop*scale)\n",
        "                win_draw = int(window*scale)\n",
        "                cv2.rectangle(draw_img,(xbox_left, ytop_draw+ystart),(xbox_left+win_draw,ytop_draw+win_draw+ystart),(0,0,255),6)\n",
        "  \n",
        "                boxes_list.append(((xbox_left, ytop_draw+ystart),(xbox_left+win_draw,ytop_draw+win_draw+ystart)))\n",
        "         \n",
        "    heat_map = add_heat(heat_map, boxes_list)\n",
        "    return draw_img,boxes_list, heat_map"
      ],
      "metadata": {
        "id": "83pWW2KLtNmf"
      },
      "execution_count": 5,
      "outputs": []
    },
    {
      "cell_type": "markdown",
      "source": [
        "# Training utils"
      ],
      "metadata": {
        "id": "t33hekBqrb-R"
      }
    },
    {
      "cell_type": "code",
      "source": [
        "# Define a function to extract features from a list of images\n",
        "# Have this function call bin_spatial(), color_hist() and get_hog_features()\n",
        "def extract_features(imgs, cspace='RGB', orient=8, pix_per_cell=8, cell_per_block=2, hog_channel=0):\n",
        "    # Create a list to append feature vectors to\n",
        "    features = []\n",
        "    # Iterate through the list of images\n",
        "    for file in imgs:\n",
        "        file_features = []\n",
        "        # Read in each one by one\n",
        "        image = mpimg.imread(file)\n",
        "        # apply color conversion if other than 'RGB'\n",
        "        if cspace != 'RGB':\n",
        "            if cspace == 'HSV':\n",
        "                feature_image = cv2.cvtColor(image, cv2.COLOR_RGB2HSV)\n",
        "            elif cspace == 'LUV':\n",
        "                feature_image = cv2.cvtColor(image, cv2.COLOR_RGB2LUV)\n",
        "            elif cspace == 'HLS':\n",
        "                feature_image = cv2.cvtColor(image, cv2.COLOR_RGB2HLS)\n",
        "            elif cspace == 'YUV':\n",
        "                feature_image = cv2.cvtColor(image, cv2.COLOR_RGB2YUV)\n",
        "            elif cspace == 'YCrCb':\n",
        "                feature_image = cv2.cvtColor(image, cv2.COLOR_RGB2YCrCb)\n",
        "        else: feature_image = np.copy(image)      \n",
        "\n",
        "\n",
        "        if hog_channel == 'ALL':\n",
        "            hog_features = []\n",
        "            for channel in range(feature_image.shape[2]):\n",
        "                hog_features.append((get_hog_features(feature_image[:,:,channel], \n",
        "                                    orient, pix_per_cell, cell_per_block, \n",
        "                                    vis=False, feature_vec=True)))\n",
        "            hog_features = np.ravel(hog_features)        \n",
        "        else:\n",
        "            hog_features = get_hog_features(feature_image[:,:,hog_channel], orient, \n",
        "                        pix_per_cell, cell_per_block, vis=False, feature_vec=True)\n",
        "        file_features.append(hog_features)        \n",
        "        features.append(np.concatenate(file_features))\n",
        "    # Return list of feature vectors\n",
        "    return features"
      ],
      "metadata": {
        "id": "6GTIH_bYuGa3"
      },
      "execution_count": 6,
      "outputs": []
    },
    {
      "cell_type": "markdown",
      "source": [
        "# Main Training"
      ],
      "metadata": {
        "id": "maXwUBPsrfsq"
      }
    },
    {
      "cell_type": "code",
      "source": [
        "colorspace = 'YCrCb'        # Can be RGB, HSV, LUV, HLS, YUV, YCrCb       \n",
        "orient = 10                 # HOG orientations\n",
        "pix_per_cell = 8            # HOG pixels per cell\n",
        "cell_per_block = 2          # HOG cells per block\n",
        "hog_channel = \"ALL\"         # Can be 0, 1, 2, or \"ALL\"\n",
        "y_start_stop = [400, 656]   # Min and max in y to search in slide_window()\n",
        "scales = [1.0,1.5,2.0]      # Scale the image\n",
        "cells_per_step = 2          # How many cells to step per sliding window\n",
        "# Divide up into cars and notcars\n",
        "# Read in car and non-car images\n",
        "if os.path.exists(\"training_Model.pkl\"):\n",
        "  print()\n",
        "  print('Found Previous Model')\n",
        "  model_pickle = pickle.load(open('training_Model.pkl', 'rb'))\n",
        "  svc = model_pickle['svc']\n",
        "  X_scaler = model_pickle['scaler']\n",
        "  orient = model_pickle['orient']\n",
        "  pix_per_cell = model_pickle['pix_per_cell'] \n",
        "  cell_per_block = model_pickle['cell_per_block']\n",
        "  colorspace = model_pickle['colorspace'] \n",
        "else:\n",
        "  # Divide up into cars and notcars\n",
        "  # Read in car and non-car images\n",
        "  cars = glob.glob('training_data/vehicles/**/*.png',recursive=True)\n",
        "  notcars = glob.glob('training_data/non-vehicles/**/*.png',recursive=True)\n",
        "  print(\"There are \" + str(len(cars)) + \" cars images in the training dataset\")\n",
        "  print(\"There are \" + str(len(notcars)) + \" not-cars images in the training dataset\")\n",
        "\n",
        "  t=time.time()\n",
        "  car_features = extract_features(\n",
        "                      cars, cspace=colorspace, \n",
        "                      orient=orient, pix_per_cell=pix_per_cell, \n",
        "                      cell_per_block=cell_per_block, \n",
        "                      hog_channel=hog_channel)\n",
        "  notcar_features = extract_features(\n",
        "                      notcars, cspace=colorspace, \n",
        "                      orient=orient, pix_per_cell=pix_per_cell, \n",
        "                      cell_per_block=cell_per_block, \n",
        "                      hog_channel=hog_channel)\n",
        "  t2 = time.time()\n",
        "  print(round(t2-t, 2), 'Seconds to extract HOG features...')\n",
        "  # Create an array stack of feature vectors\n",
        "  X = np.vstack((car_features, notcar_features)).astype(np.float64)                        \n",
        "  # Fit a per-column scaler\n",
        "  X_scaler = StandardScaler().fit(X)\n",
        "  # Apply the scaler to X\n",
        "  scaled_X = X_scaler.transform(X)\n",
        "\n",
        "  # Define the labels vector\n",
        "  y = np.hstack((np.ones(len(car_features)), np.zeros(len(notcar_features))))\n",
        "\n",
        "\n",
        "  # Split up data into randomized training and test sets\n",
        "  rand_state = np.random.randint(0, 100)\n",
        "  X_train, X_test, y_train, y_test = train_test_split(\n",
        "      scaled_X, y, test_size=0.2, random_state=rand_state)\n",
        "  # Use a linear SVC \n",
        "  svc = LinearSVC()\n",
        "  # Check the training time for the SVC\n",
        "  t=time.time()\n",
        "  svc.fit(X_train, y_train)\n",
        "  t2 = time.time()\n",
        "  print(round(t2-t, 2), 'Seconds to train SVC...')\n",
        "  # Check the score of the SVC\n",
        "  print('Test Accuracy of SVC = ', round(svc.score(X_test, y_test), 4))\n",
        "  # Check the prediction time for a single sample\n",
        "  t=time.time()\n",
        "  n_predict = 10\n",
        "  print('My SVC predicts: ', svc.predict(X_test[0:n_predict]))\n",
        "  print('For these',n_predict, 'labels: ', y_test[0:n_predict])\n",
        "  t2 = time.time()\n",
        "  print(round(t2-t, 5), 'Seconds to predict', n_predict,'labels with SVC')\n",
        "\n",
        "  model_pickle = {}\n",
        "  model_pickle['svc'] = svc\n",
        "  model_pickle['scaler'] = X_scaler\n",
        "  model_pickle['orient'] = orient\n",
        "  model_pickle['pix_per_cell'] = pix_per_cell\n",
        "  model_pickle['cell_per_block'] = cell_per_block\n",
        "  model_pickle['colorspace'] = colorspace\n",
        "  pickle.dump( model_pickle, open( \"training_Model.pkl\", \"wb\" ))\n",
        "print('Configuration:')\n",
        "print('-----------------------------------------------')\n",
        "print(' Color space:             ', colorspace)\n",
        "print(' HOG orientations:        ', orient)\n",
        "print(' HOG pixel per cell:      ', pix_per_cell)\n",
        "print(' HOG cells per block:     ', cell_per_block)\n",
        "print(' HOG channel:             ', hog_channel)\n",
        "print()\n",
        "print('Train the classifier...', end='', flush=True)\n",
        "print('Done')"
      ],
      "metadata": {
        "id": "l5LdzswzuJSe",
        "outputId": "b0931c81-6bf7-4a87-ace5-7e3109b87681",
        "colab": {
          "base_uri": "https://localhost:8080/",
          "height": 0
        }
      },
      "execution_count": 8,
      "outputs": [
        {
          "output_type": "stream",
          "name": "stdout",
          "text": [
            "\n",
            "Found Previous Model\n",
            "Configuration:\n",
            "-----------------------------------------------\n",
            " Color space:              YCrCb\n",
            " HOG orientations:         10\n",
            " HOG pixel per cell:       8\n",
            " HOG cells per block:      2\n",
            " HOG channel:              ALL\n",
            "\n",
            "Train the classifier...Done\n"
          ]
        }
      ]
    },
    {
      "cell_type": "markdown",
      "source": [
        "#Image Pipeline"
      ],
      "metadata": {
        "id": "RmUa2xrgo8LV"
      }
    },
    {
      "cell_type": "code",
      "source": [
        "def prepare_out_blend_frame(blend_on_road, img_binary):\n",
        "    \"\"\"\n",
        "    Prepare the final pretty pretty output blend, given all intermediate pipeline images\n",
        "    :param blend_on_road: color image of lane blend onto the road\n",
        "    :param img_binary: thresholded binary image\n",
        "    \"\"\"\n",
        "    h, w = blend_on_road.shape[:2]\n",
        "\n",
        "    thumb_ratio = 0.2\n",
        "    thumb_h, thumb_w = int(thumb_ratio * h), int(thumb_ratio * w)\n",
        "\n",
        "    off_x, off_y = 20, 15\n",
        "\n",
        "    # add a gray rectangle to highlight the upper area\n",
        "    mask = blend_on_road.copy()\n",
        "    mask = cv2.rectangle(mask, pt1=(w-(thumb_w+off_x*2), 0), pt2=(w, h), color=(0, 0, 0), thickness=cv2.FILLED)\n",
        "    blend_on_road = cv2.addWeighted(src1=mask, alpha=0.2, src2=blend_on_road, beta=0.8, gamma=0)\n",
        "\n",
        "    # add thumbnail of binary image\n",
        "    thumb_binary = cv2.resize(img_binary, dsize=(thumb_w, thumb_h))\n",
        "    thumb_binary = np.dstack([thumb_binary, thumb_binary, thumb_binary])\n",
        "    blend_on_road[off_y:thumb_h+off_y, w-(thumb_w+off_x):w-off_x, :] = thumb_binary\n",
        "\n",
        "    return blend_on_road"
      ],
      "metadata": {
        "id": "KQXtCGAOpDZF"
      },
      "execution_count": 9,
      "outputs": []
    },
    {
      "cell_type": "markdown",
      "source": [
        "# Image Pipeline"
      ],
      "metadata": {
        "id": "uGrL_VtXrnWE"
      }
    },
    {
      "cell_type": "code",
      "source": [
        "ystart = y_start_stop[0]   \n",
        "ystop = y_start_stop[1]\n",
        "def process_image(image):\n",
        "    result = image_pipeline(image, \"None\")\n",
        "    return result\n",
        "# This function processes each individual image coming from the video stream \n",
        "# and estimates where the cars are\n",
        "def image_pipeline(img, fname):\n",
        "\n",
        "    global heat_previous, first_frame #, boxes_previous, labels_prev\n",
        "    heat = np.zeros_like(img[:,:,0])\n",
        "    if(first_frame == True):\n",
        "        heat_previous =  np.zeros_like(img[:,:,0]).astype(np.float)\n",
        "        boxes_previous =  np.zeros_like(img[:,:,0]).astype(np.float)\n",
        "        first_frame = False  \n",
        "    # for scale in scales:\n",
        "    for scale in [1.5]:\n",
        "      out_img, boxes_list_1, heat_1 = find_cars(img, y_start_stop[0] ,\n",
        "                                          y_start_stop[1], scale, \n",
        "                                          svc, X_scaler, orient, \n",
        "                                          pix_per_cell, cell_per_block,\n",
        "                                          cells_per_step, \"RGB2YCrCb\")\n",
        "\n",
        "      heat = np.add(heat, heat_1)\n",
        "      # plt.imshow(out_img)\n",
        "      # plt.show()\n",
        "\n",
        "\n",
        "    # Apply threshold to help remove false positives\n",
        "    if fname == \"None\" :    \n",
        "        heat_previous = heat_previous*0.6\n",
        "        heat_previous = np.add(heat_previous,heat)\n",
        "        heat = apply_threshold(heat_previous,3)\n",
        "    elif fname != \"None\":\n",
        "        heat = apply_threshold(heat,2)\n",
        "\n",
        "    heat = np.clip(heat, 0, 1)\n",
        "    labels = label(heat)\n",
        "    heat_img, bbox_list = draw_labeled_bboxes(np.copy(img), labels)\n",
        "    \n",
        "    return prepare_out_blend_frame(heat_img, heat * 255)"
      ],
      "metadata": {
        "id": "8aMZdbMju3OM"
      },
      "execution_count": 10,
      "outputs": []
    },
    {
      "cell_type": "markdown",
      "source": [
        "# Test output"
      ],
      "metadata": {
        "id": "6JtKiXvIrqvy"
      }
    },
    {
      "cell_type": "code",
      "source": [
        "project_output = 'OUT_project_video_output.mp4'\n",
        "clip2 = VideoFileClip(\"project_video.mp4\").subclip(0,50)\n",
        "first_frame = True\n",
        "project_clip = clip2.fl_image(process_image)\n",
        "%time project_clip.write_videofile(project_output, audio=False)"
      ],
      "metadata": {
        "id": "9_lhRY_3u43b",
        "outputId": "b5212f81-ab7d-4be0-e09c-0ab0f90a5ba4",
        "colab": {
          "base_uri": "https://localhost:8080/",
          "height": 0
        }
      },
      "execution_count": 11,
      "outputs": [
        {
          "output_type": "stream",
          "name": "stdout",
          "text": [
            "[MoviePy] >>>> Building video OUT_project_video_output.mp4\n",
            "[MoviePy] Writing video OUT_project_video_output.mp4\n"
          ]
        },
        {
          "output_type": "stream",
          "name": "stderr",
          "text": [
            "100%|█████████▉| 750/751 [05:21<00:00,  2.33it/s]\n"
          ]
        },
        {
          "output_type": "stream",
          "name": "stdout",
          "text": [
            "[MoviePy] Done.\n",
            "[MoviePy] >>>> Video ready: OUT_project_video_output.mp4 \n",
            "\n",
            "CPU times: user 5min 2s, sys: 10.8 s, total: 5min 13s\n",
            "Wall time: 5min 24s\n"
          ]
        }
      ]
    },
    {
      "cell_type": "code",
      "source": [
        "from IPython.display import HTML\n",
        "from base64 import b64encode\n",
        "\n",
        "def show_video(video_path, video_width = 600):\n",
        "  video_file = open(video_path, \"r+b\").read()\n",
        "  video_url = f\"data:video/mp4;base64,{b64encode(video_file).decode()}\"\n",
        "  return HTML(f\"\"\"<video width={video_width} controls><source src=\"{video_url}\"></video>\"\"\")\n",
        "show_video(\"OUT_project_video_output.mp4\")"
      ],
      "metadata": {
        "id": "CTKJhlkorhet"
      },
      "execution_count": null,
      "outputs": []
    }
  ]
}