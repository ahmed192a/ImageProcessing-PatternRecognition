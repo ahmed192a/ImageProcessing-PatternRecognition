{
  "nbformat": 4,
  "nbformat_minor": 0,
  "metadata": {
    "colab": {
      "name": "P2.Vehicle-Detection.ipynb",
      "provenance": [],
      "collapsed_sections": [],
      "include_colab_link": true
    },
    "kernelspec": {
      "name": "python3",
      "display_name": "Python 3"
    },
    "language_info": {
      "name": "python"
    }
  },
  "cells": [
    {
      "cell_type": "markdown",
      "metadata": {
        "id": "view-in-github",
        "colab_type": "text"
      },
      "source": [
        "<a href=\"https://colab.research.google.com/github/ahmed192a/ImageProcessing-PatternRecognition/blob/main/P2.Vehicle-Detection/P2_Vehicle_Detection.ipynb\" target=\"_parent\"><img src=\"https://colab.research.google.com/assets/colab-badge.svg\" alt=\"Open In Colab\"/></a>"
      ]
    },
    {
      "cell_type": "markdown",
      "source": [
        "# P5: Vehicle Detection and Tracking"
      ],
      "metadata": {
        "id": "PFHKsiAcq2Hn"
      }
    },
    {
      "cell_type": "markdown",
      "source": [
        "# Imports"
      ],
      "metadata": {
        "id": "N6iox-gjrJWj"
      }
    },
    {
      "cell_type": "code",
      "execution_count": null,
      "metadata": {
        "id": "-dnoKbu4pO1u"
      },
      "outputs": [],
      "source": [
        "import matplotlib.image as mpimg\n",
        "import matplotlib.pyplot as plt\n",
        "import numpy as np\n",
        "import pickle\n",
        "import cv2\n",
        "import glob\n",
        "import time\n",
        "from random import shuffle\n",
        "from scipy.ndimage.measurements import label\n",
        "from skimage.feature import hog\n",
        "from sklearn.svm import LinearSVC\n",
        "from sklearn.preprocessing import StandardScaler\n",
        "from sklearn.model_selection import train_test_split\n",
        "from moviepy.editor import VideoFileClip"
      ]
    },
    {
      "cell_type": "markdown",
      "source": [
        "# Features Extraction Algorithms"
      ],
      "metadata": {
        "id": "jHpL4HaCrMZA"
      }
    },
    {
      "cell_type": "code",
      "source": [
        "\n",
        "def convert_color(img, conv='RGB2YCrCb'):\n",
        "    if conv == 'RGB2YCrCb':\n",
        "        return cv2.cvtColor(img, cv2.COLOR_RGB2YCrCb)\n",
        "    if conv == 'BGR2YCrCb':\n",
        "        return cv2.cvtColor(img, cv2.COLOR_BGR2YCrCb)\n",
        "    if conv == 'RGB2LUV':\n",
        "        return cv2.cvtColor(img, cv2.COLOR_RGB2LUV)\n",
        "    if conv == 'BGR2LUV':\n",
        "        return cv2.cvtColor(img, cv2.COLOR_BGR2LUV)\n",
        "    if conv == 'RGB2HSV':\n",
        "        return cv2.cvtColor(img, cv2.COLOR_RGB2HSV)\n",
        "    if conv == 'BGR2HSV':\n",
        "        return cv2.cvtColor(img, cv2.COLOR_BGR2HSV)\n",
        "    if conv == 'RGB2HLS':\n",
        "        return cv2.cvtColor(img, cv2.COLOR_RGB2HLS)\n",
        "    if conv == 'BGR2HLS':\n",
        "        return cv2.cvtColor(img, cv2.COLOR_BGR2HLS)\n",
        "    if conv == 'RGB2YUV':\n",
        "        return cv2.cvtColor(img, cv2.COLOR_RGB2YUV)\n",
        "    if conv == 'BGR2YUV':\n",
        "        return cv2.cvtColor(img, cv2.COLOR_BGR2YUV)\n",
        "    if conv == 'RGB2BGR':\n",
        "        return cv2.cvtColor(img, cv2.COLOR_RGB2BGR)\n",
        "    if conv == 'BGR2RGB':\n",
        "        return cv2.cvtColor(img, cv2.COLOR_BGR2RGB)\n",
        "    \n",
        "def get_hog_features(img, orient, pix_per_cell, cell_per_block, \n",
        "                        vis=False, feature_vec=True):\n",
        "    # Call with two outputs if vis==True\n",
        "    if vis == True:\n",
        "        features, hog_image = hog(img, orientations=orient, \n",
        "                                  pixels_per_cell=(pix_per_cell,pix_per_cell),\n",
        "                                  cells_per_block=(cell_per_block,cell_per_block), \n",
        "                                  transform_sqrt=True, \n",
        "                                  visualize=vis, feature_vector=feature_vec)\n",
        "        return features, hog_image\n",
        "    # Otherwise call with one output\n",
        "    else:      \n",
        "        features = hog(img, orientations=orient, \n",
        "                       pixels_per_cell=(pix_per_cell,pix_per_cell),\n",
        "                       cells_per_block=(cell_per_block,cell_per_block),\n",
        "                       transform_sqrt=True, \n",
        "                       visualize=vis, feature_vector=feature_vec)\n",
        "        return features\n",
        "\n",
        "def bin_spatial(img, size=(32, 32)):\n",
        "    img_feature = np.copy(img)\n",
        "    return cv2.resize(img_feature, size).ravel()\n",
        "                        \n",
        "# Define a function to compute color histogram features  \n",
        "def color_hist(img, nbins=32, bins_range=(0, 256)):\n",
        "    # Compute the histogram of the color channels separately\n",
        "    channel1_hist = np.histogram(img[:,:,0], bins=nbins, range=bins_range)\n",
        "    channel2_hist = np.histogram(img[:,:,1], bins=nbins, range=bins_range)\n",
        "    channel3_hist = np.histogram(img[:,:,2], bins=nbins, range=bins_range)\n",
        "    # Concatenate the histograms into a single feature vector\n",
        "    hist_features = np.concatenate((channel1_hist[0], channel2_hist[0], channel3_hist[0]))\n",
        "    # Return the individual histograms, bin_centers and feature vector\n",
        "    return hist_features"
      ],
      "metadata": {
        "id": "DXq9m7q7smjD"
      },
      "execution_count": null,
      "outputs": []
    },
    {
      "cell_type": "markdown",
      "source": [
        "# Find Car utils"
      ],
      "metadata": {
        "id": "Bt5RbNHQrUPH"
      }
    },
    {
      "cell_type": "markdown",
      "source": [
        "# Find Car"
      ],
      "metadata": {
        "id": "4wf93lMmrXyG"
      }
    },
    {
      "cell_type": "markdown",
      "source": [
        "# Training utils"
      ],
      "metadata": {
        "id": "t33hekBqrb-R"
      }
    },
    {
      "cell_type": "markdown",
      "source": [
        "# Main Training"
      ],
      "metadata": {
        "id": "maXwUBPsrfsq"
      }
    },
    {
      "cell_type": "markdown",
      "source": [
        "# Image Pipeline utils"
      ],
      "metadata": {
        "id": "LJs_FoMmrlpn"
      }
    },
    {
      "cell_type": "markdown",
      "source": [
        "# Image Pipeline"
      ],
      "metadata": {
        "id": "uGrL_VtXrnWE"
      }
    },
    {
      "cell_type": "markdown",
      "source": [
        "# Test output"
      ],
      "metadata": {
        "id": "6JtKiXvIrqvy"
      }
    }
  ]
}