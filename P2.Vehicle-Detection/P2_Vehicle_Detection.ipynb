{
  "nbformat": 4,
  "nbformat_minor": 0,
  "metadata": {
    "colab": {
      "name": "P2.Vehicle-Detection.ipynb",
      "provenance": [],
      "collapsed_sections": [],
      "authorship_tag": "ABX9TyPKCMlgSqVHhsv5OM+aLUO5",
      "include_colab_link": true
    },
    "kernelspec": {
      "name": "python3",
      "display_name": "Python 3"
    },
    "language_info": {
      "name": "python"
    }
  },
  "cells": [
    {
      "cell_type": "markdown",
      "metadata": {
        "id": "view-in-github",
        "colab_type": "text"
      },
      "source": [
        "<a href=\"https://colab.research.google.com/github/ahmed192a/ImageProcessing-PatternRecognition/blob/main/P2.Vehicle-Detection/P2_Vehicle_Detection.ipynb\" target=\"_parent\"><img src=\"https://colab.research.google.com/assets/colab-badge.svg\" alt=\"Open In Colab\"/></a>"
      ]
    },
    {
      "cell_type": "markdown",
      "source": [
        "# P5: Vehicle Detection and Tracking"
      ],
      "metadata": {
        "id": "PFHKsiAcq2Hn"
      }
    },
    {
      "cell_type": "markdown",
      "source": [
        "# Imports"
      ],
      "metadata": {
        "id": "N6iox-gjrJWj"
      }
    },
    {
      "cell_type": "code",
      "execution_count": null,
      "metadata": {
        "id": "-dnoKbu4pO1u"
      },
      "outputs": [],
      "source": [
        "import matplotlib.image as mpimg\n",
        "import matplotlib.pyplot as plt\n",
        "import numpy as np\n",
        "import pickle\n",
        "import cv2\n",
        "import glob\n",
        "import time\n",
        "from random import shuffle\n",
        "from scipy.ndimage.measurements import label\n",
        "from skimage.feature import hog\n",
        "from sklearn.svm import LinearSVC\n",
        "from sklearn.preprocessing import StandardScaler\n",
        "from sklearn.model_selection import train_test_split\n",
        "from moviepy.editor import VideoFileClip"
      ]
    },
    {
      "cell_type": "markdown",
      "source": [
        "# Useful functions to be used in the image pipeline for Vehicle Detection and Tracking"
      ],
      "metadata": {
        "id": "jHpL4HaCrMZA"
      }
    },
    {
      "cell_type": "markdown",
      "source": [
        "# Find Car utils"
      ],
      "metadata": {
        "id": "Bt5RbNHQrUPH"
      }
    },
    {
      "cell_type": "markdown",
      "source": [
        "# Find Car"
      ],
      "metadata": {
        "id": "4wf93lMmrXyG"
      }
    },
    {
      "cell_type": "markdown",
      "source": [
        "# Training utils"
      ],
      "metadata": {
        "id": "t33hekBqrb-R"
      }
    },
    {
      "cell_type": "markdown",
      "source": [
        "# Main Training"
      ],
      "metadata": {
        "id": "maXwUBPsrfsq"
      }
    },
    {
      "cell_type": "markdown",
      "source": [
        "# Image Pipeline utils"
      ],
      "metadata": {
        "id": "LJs_FoMmrlpn"
      }
    },
    {
      "cell_type": "markdown",
      "source": [
        "# Image Pipeline"
      ],
      "metadata": {
        "id": "uGrL_VtXrnWE"
      }
    },
    {
      "cell_type": "markdown",
      "source": [
        "# Test output"
      ],
      "metadata": {
        "id": "6JtKiXvIrqvy"
      }
    }
  ]
}