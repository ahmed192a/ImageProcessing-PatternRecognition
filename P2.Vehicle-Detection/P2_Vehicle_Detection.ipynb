{
  "nbformat": 4,
  "nbformat_minor": 0,
  "metadata": {
    "colab": {
      "name": "P2.Vehicle-Detection.ipynb",
      "provenance": [],
      "collapsed_sections": [
        "jHpL4HaCrMZA",
        "Bt5RbNHQrUPH",
        "4wf93lMmrXyG"
      ],
      "include_colab_link": true
    },
    "kernelspec": {
      "name": "python3",
      "display_name": "Python 3"
    },
    "language_info": {
      "name": "python"
    }
  },
  "cells": [
    {
      "cell_type": "markdown",
      "metadata": {
        "id": "view-in-github",
        "colab_type": "text"
      },
      "source": [
        "<a href=\"https://colab.research.google.com/github/ahmed192a/ImageProcessing-PatternRecognition/blob/main/P2.Vehicle-Detection/P2_Vehicle_Detection.ipynb\" target=\"_parent\"><img src=\"https://colab.research.google.com/assets/colab-badge.svg\" alt=\"Open In Colab\"/></a>"
      ]
    },
    {
      "cell_type": "markdown",
      "source": [
        "# P5: Vehicle Detection and Tracking"
      ],
      "metadata": {
        "id": "PFHKsiAcq2Hn"
      }
    },
    {
      "cell_type": "markdown",
      "source": [
        "# Imports"
      ],
      "metadata": {
        "id": "N6iox-gjrJWj"
      }
    },
    {
      "cell_type": "code",
      "execution_count": null,
      "metadata": {
        "id": "-dnoKbu4pO1u"
      },
      "outputs": [],
      "source": [
        "import matplotlib.image as mpimg\n",
        "import matplotlib.pyplot as plt\n",
        "import numpy as np\n",
        "import pickle\n",
        "import cv2\n",
        "import glob\n",
        "import time\n",
        "from random import shuffle\n",
        "from scipy.ndimage.measurements import label\n",
        "from skimage.feature import hog\n",
        "from sklearn.svm import LinearSVC\n",
        "from sklearn.preprocessing import StandardScaler\n",
        "from sklearn.model_selection import train_test_split\n",
        "from moviepy.editor import VideoFileClip"
      ]
    },
    {
      "cell_type": "markdown",
      "source": [
        "# Features Extraction Algorithms"
      ],
      "metadata": {
        "id": "jHpL4HaCrMZA"
      }
    },
    {
      "cell_type": "code",
      "source": [
        "\n",
        "def convert_color(img, conv='RGB2YCrCb'):\n",
        "    if conv == 'RGB2YCrCb':\n",
        "        return cv2.cvtColor(img, cv2.COLOR_RGB2YCrCb)\n",
        "    if conv == 'BGR2YCrCb':\n",
        "        return cv2.cvtColor(img, cv2.COLOR_BGR2YCrCb)\n",
        "    if conv == 'RGB2LUV':\n",
        "        return cv2.cvtColor(img, cv2.COLOR_RGB2LUV)\n",
        "    if conv == 'BGR2LUV':\n",
        "        return cv2.cvtColor(img, cv2.COLOR_BGR2LUV)\n",
        "    if conv == 'RGB2HSV':\n",
        "        return cv2.cvtColor(img, cv2.COLOR_RGB2HSV)\n",
        "    if conv == 'BGR2HSV':\n",
        "        return cv2.cvtColor(img, cv2.COLOR_BGR2HSV)\n",
        "    if conv == 'RGB2HLS':\n",
        "        return cv2.cvtColor(img, cv2.COLOR_RGB2HLS)\n",
        "    if conv == 'BGR2HLS':\n",
        "        return cv2.cvtColor(img, cv2.COLOR_BGR2HLS)\n",
        "    if conv == 'RGB2YUV':\n",
        "        return cv2.cvtColor(img, cv2.COLOR_RGB2YUV)\n",
        "    if conv == 'BGR2YUV':\n",
        "        return cv2.cvtColor(img, cv2.COLOR_BGR2YUV)\n",
        "    if conv == 'RGB2BGR':\n",
        "        return cv2.cvtColor(img, cv2.COLOR_RGB2BGR)\n",
        "    if conv == 'BGR2RGB':\n",
        "        return cv2.cvtColor(img, cv2.COLOR_BGR2RGB)\n",
        "    \n",
        "def get_hog_features(img, orient, pix_per_cell, cell_per_block, \n",
        "                        vis=False, feature_vec=True):\n",
        "    # Call with two outputs if vis==True\n",
        "    if vis == True:\n",
        "        features, hog_image = hog(img, orientations=orient, \n",
        "                                  pixels_per_cell=(pix_per_cell,pix_per_cell),\n",
        "                                  cells_per_block=(cell_per_block,cell_per_block), \n",
        "                                  transform_sqrt=True, \n",
        "                                  visualize=vis, feature_vector=feature_vec)\n",
        "        return features, hog_image\n",
        "    # Otherwise call with one output\n",
        "    else:      \n",
        "        features = hog(img, orientations=orient, \n",
        "                       pixels_per_cell=(pix_per_cell,pix_per_cell),\n",
        "                       cells_per_block=(cell_per_block,cell_per_block),\n",
        "                       transform_sqrt=True, \n",
        "                       visualize=vis, feature_vector=feature_vec)\n",
        "        return features\n",
        "\n",
        "def bin_spatial(img, size=(32, 32)):\n",
        "    img_feature = np.copy(img)\n",
        "    return cv2.resize(img_feature, size).ravel()\n",
        "                        \n",
        "# Define a function to compute color histogram features  \n",
        "def color_hist(img, nbins=32, bins_range=(0, 256)):\n",
        "    # Compute the histogram of the color channels separately\n",
        "    channel1_hist = np.histogram(img[:,:,0], bins=nbins, range=bins_range)\n",
        "    channel2_hist = np.histogram(img[:,:,1], bins=nbins, range=bins_range)\n",
        "    channel3_hist = np.histogram(img[:,:,2], bins=nbins, range=bins_range)\n",
        "    # Concatenate the histograms into a single feature vector\n",
        "    hist_features = np.concatenate((channel1_hist[0], channel2_hist[0], channel3_hist[0]))\n",
        "    # Return the individual histograms, bin_centers and feature vector\n",
        "    return hist_features"
      ],
      "metadata": {
        "id": "DXq9m7q7smjD"
      },
      "execution_count": null,
      "outputs": []
    },
    {
      "cell_type": "markdown",
      "source": [
        "# Find Car utils"
      ],
      "metadata": {
        "id": "Bt5RbNHQrUPH"
      }
    },
    {
      "cell_type": "code",
      "source": [
        "## Heat-map functions\n",
        "def add_heat(heatmap, bbox_list):\n",
        "    # Iterate through list of bboxes\n",
        "    for box in bbox_list:\n",
        "        # Add += 1 for all pixels inside each bbox\n",
        "        # Assuming each \"box\" takes the form ((x1, y1), (x2, y2))\n",
        "        heatmap[box[0][1]:box[1][1], box[0][0]:box[1][0]] += 1\n",
        "\n",
        "    # Return updated heatmap\n",
        "    return heatmap# Iterate through list of bboxes\n",
        "    \n",
        "def apply_threshold(heatmap, threshold):\n",
        "    # Zero out pixels below the threshold\n",
        "    heatmap[heatmap <= threshold] = 0\n",
        "    # Return thresholded map\n",
        "    return heatmap\n",
        "\n",
        "def draw_labeled_bboxes(img, labels):\n",
        "    box_list =[]\n",
        "    # Iterate through all detected cars\n",
        "    for car_number in range(1, labels[1]+1):\n",
        "        # Find pixels with each car_number label value\n",
        "        nonzero = (labels[0] == car_number).nonzero()\n",
        "        # Identify x and y values of those pixels\n",
        "        nonzeroy = np.array(nonzero[0])\n",
        "        nonzerox = np.array(nonzero[1])\n",
        "        # Define a bounding box based on min/max x and y\n",
        "        bbox = ((np.min(nonzerox), np.min(nonzeroy)), (np.max(nonzerox), np.max(nonzeroy)))\n",
        "        box_list.append(bbox)\n",
        "        # Draw the box on the image\n",
        "        cv2.rectangle(img, bbox[0], bbox[1], (0,0,255), 6)\n",
        "    # Return the image\n",
        "    return img, box_list"
      ],
      "metadata": {
        "id": "gIMu3xDutMEF"
      },
      "execution_count": null,
      "outputs": []
    },
    {
      "cell_type": "markdown",
      "source": [
        "# Find Car"
      ],
      "metadata": {
        "id": "4wf93lMmrXyG"
      }
    },
    {
      "cell_type": "code",
      "source": [
        "# Define a single function that can extract features using hog sub-sampling and make predictions\n",
        "def find_cars(img, ystart, ystop, scale, svc, X_scaler, orient, pix_per_cell, cell_per_block, spatial_size, hist_bins, cells_per_step, conv_color):\n",
        "    img = img.astype(np.float32)/255\n",
        "    heat_map = np.zeros_like(img[:,:,0], dtype=np.float32)\n",
        "    draw_img = np.copy(img)\n",
        "    \n",
        "    img_tosearch = img[ystart:ystop,:,:]\n",
        "    ctrans_tosearch = convert_color(img_tosearch, conv=conv_color)\n",
        "    if scale != 1:\n",
        "        imshape = ctrans_tosearch.shape\n",
        "        ctrans_tosearch = cv2.resize(ctrans_tosearch, (int(imshape[1]/scale), int(imshape[0]/scale)))\n",
        "        \n",
        "    ch1 = ctrans_tosearch[:,:,0]\n",
        "    ch2 = ctrans_tosearch[:,:,1]\n",
        "    ch3 = ctrans_tosearch[:,:,2]\n",
        "\n",
        "    # Define blocks and steps as above\n",
        "    nxblocks = (ch1.shape[1] // pix_per_cell) - 1\n",
        "    nyblocks = (ch1.shape[0] // pix_per_cell) - 1\n",
        "    # nxblocks = nxcells // cell_per_block\n",
        "    # nyblocks = nycells // cell_per_block\n",
        "    nfeat_per_block = orient*cell_per_block**2\n",
        "    # 64 was the orginal sampling rate, with 8 cells and 8 pix per cell\n",
        "    window = 64\n",
        "    # nblocks_per_window = (window // cell_per_block)-1 \n",
        "    nblocks_per_window = (window // pix_per_cell) - 1 \n",
        "    cells_per_step = cells_per_step #int(0.5 * ncells_per_window)  # Instead of overlap, define how many cells to step\n",
        "    nxsteps = (nxblocks - nblocks_per_window) // cells_per_step\n",
        "    nysteps = (nyblocks - nblocks_per_window) // cells_per_step\n",
        "    \n",
        "    # Compute individual channel HOG features for the entire image\n",
        "    hog1 = get_hog_features(ch1, orient, pix_per_cell, cell_per_block, feature_vec=False)\n",
        "    hog2 = get_hog_features(ch2, orient, pix_per_cell, cell_per_block, feature_vec=False)\n",
        "    hog3 = get_hog_features(ch3, orient, pix_per_cell, cell_per_block, feature_vec=False)\n",
        "    \n",
        "    boxes_list = []\n",
        "\n",
        "    for xb in range(nxsteps):\n",
        "        for yb in range(nysteps):\n",
        "            ypos = yb*cells_per_step\n",
        "            xpos = xb*cells_per_step\n",
        "            # Extract HOG for this patch\n",
        "            hog_feat1 = hog1[ypos:ypos+nblocks_per_window, xpos:xpos+nblocks_per_window].ravel() \n",
        "            hog_feat2 = hog2[ypos:ypos+nblocks_per_window, xpos:xpos+nblocks_per_window].ravel() \n",
        "            hog_feat3 = hog3[ypos:ypos+nblocks_per_window, xpos:xpos+nblocks_per_window].ravel() \n",
        "\n",
        "            hog_features = np.hstack((hog_feat1, hog_feat2, hog_feat3))\n",
        "\n",
        "            xleft = xpos*pix_per_cell\n",
        "            ytop = ypos*pix_per_cell\n",
        "\n",
        "            # Extract the image patch\n",
        "            subimg = cv2.resize(ctrans_tosearch[ytop:ytop+window, xleft:xleft+window], (64,64))\n",
        "          \n",
        "            # Get color features\n",
        "            spatial_features = bin_spatial(subimg, size=spatial_size)\n",
        "            hist_features = color_hist(subimg, nbins=hist_bins)\n",
        "\n",
        "            # Scale features and make a prediction\n",
        "            test_features = X_scaler.transform(np.hstack((spatial_features, hist_features, hog_features)).reshape(1, -1)) \n",
        "            # X_scaler.fit_transform(hog_features)   \n",
        "            # test_features = X_scaler.transform(hog_features)    \n",
        "\n",
        "            #test_features = X_scaler.transform(np.hstack((shape_feat, hist_feat)).reshape(1, -1))  \n",
        "              \n",
        "            test_prediction  = svc.predict(test_features)\n",
        "            \n",
        "            if test_prediction == 1:\n",
        "                xbox_left = int(xleft*scale)\n",
        "                ytop_draw = int(ytop*scale)\n",
        "                win_draw = int(window*scale)\n",
        "                cv2.rectangle(draw_img,(xbox_left, ytop_draw+ystart),(xbox_left+win_draw,ytop_draw+win_draw+ystart),(0,0,255),6)\n",
        "                # box = np.array([[xbox_left,ytop_draw+ystart],[xbox_left+win_draw,ytop_draw+win_draw+ystart]])\n",
        "                boxes_list.append(((xbox_left, ytop_draw+ystart),(xbox_left+win_draw,ytop_draw+win_draw+ystart)))\n",
        "                # heat_map[ytop_draw + ystart:ytop_draw + win_draw + ystart, xbox_left:xbox_left + win_draw] += 1\n",
        "    heat_map = add_heat(heat_map, boxes_list)\n",
        "    return draw_img,boxes_list, heat_map"
      ],
      "metadata": {
        "id": "83pWW2KLtNmf"
      },
      "execution_count": null,
      "outputs": []
    },
    {
      "cell_type": "markdown",
      "source": [
        "# Training utils"
      ],
      "metadata": {
        "id": "t33hekBqrb-R"
      }
    },
    {
      "cell_type": "markdown",
      "source": [
        "# Main Training"
      ],
      "metadata": {
        "id": "maXwUBPsrfsq"
      }
    },
    {
      "cell_type": "markdown",
      "source": [
        "# Image Pipeline utils"
      ],
      "metadata": {
        "id": "LJs_FoMmrlpn"
      }
    },
    {
      "cell_type": "markdown",
      "source": [
        "# Image Pipeline"
      ],
      "metadata": {
        "id": "uGrL_VtXrnWE"
      }
    },
    {
      "cell_type": "markdown",
      "source": [
        "# Test output"
      ],
      "metadata": {
        "id": "6JtKiXvIrqvy"
      }
    }
  ]
}